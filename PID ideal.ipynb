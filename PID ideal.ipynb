{
    "cells": [
        {
            "cell_type": "code",
            "execution_count": 1,
            "source": [
                "#pip install control #Instalação da lib CONTROL (necessário executar só uma vez em ambientes novos)"
            ],
            "outputs": [],
            "metadata": {}
        },
        {
            "cell_type": "code",
            "execution_count": 2,
            "source": [
                "import control as ctl\r\n",
                "import matplotlib.pyplot as plt\r\n",
                "import numpy as np"
            ],
            "outputs": [],
            "metadata": {}
        },
        {
            "cell_type": "markdown",
            "source": [
                "# Funções de Transferência"
            ],
            "metadata": {}
        },
        {
            "cell_type": "code",
            "execution_count": 3,
            "source": [
                "Tsim = 600 #tempo simulação\r\n",
                "s = ctl.TransferFunction.s"
            ],
            "outputs": [],
            "metadata": {}
        },
        {
            "cell_type": "markdown",
            "source": [
                "#### Planta"
            ],
            "metadata": {}
        },
        {
            "cell_type": "code",
            "execution_count": 4,
            "source": [
                "R1 = 10e3\r\n",
                "R2 = 100e6\r\n",
                "C = 5e-3\r\n",
                "L = 1\r\n",
                "\r\n",
                "P_s = R2/((R1*C*L)*s**2 + (L+R1*R2*C)*s + (R1+R2))\r\n",
                "display(P_s)"
            ],
            "outputs": [
                {
                    "output_type": "display_data",
                    "data": {
                        "text/latex": [
                            "$$\\frac{1 \\times 10^{8}}{50 s^2 + 5 \\times 10^{9} s + 1 \\times 10^{8}}$$"
                        ],
                        "text/plain": [
                            "TransferFunction(array([1.e+08]), array([5.0000e+01, 5.0000e+09, 1.0001e+08]))"
                        ]
                    },
                    "metadata": {}
                }
            ],
            "metadata": {}
        },
        {
            "cell_type": "markdown",
            "source": [
                "#### Controlador PID"
            ],
            "metadata": {}
        },
        {
            "cell_type": "code",
            "execution_count": 5,
            "source": [
                "Kp = 45\r\n",
                "Ki = 7\r\n",
                "Kd = Ki/5\r\n",
                "\r\n",
                "C_s = (Kd*s**2 + Kp*s + Ki) / s\r\n",
                "display(C_s)"
            ],
            "outputs": [
                {
                    "output_type": "display_data",
                    "data": {
                        "text/latex": [
                            "$$\\frac{1.4 s^2 + 45 s + 7}{s}$$"
                        ],
                        "text/plain": [
                            "TransferFunction(array([ 1.4, 45. ,  7. ]), array([1, 0]))"
                        ]
                    },
                    "metadata": {}
                }
            ],
            "metadata": {}
        },
        {
            "cell_type": "markdown",
            "source": [
                "#### Sensor"
            ],
            "metadata": {}
        },
        {
            "cell_type": "code",
            "execution_count": 6,
            "source": [
                "H_s = 1/1\r\n",
                "display(H_s)"
            ],
            "outputs": [
                {
                    "output_type": "display_data",
                    "data": {
                        "text/plain": [
                            "1.0"
                        ]
                    },
                    "metadata": {}
                }
            ],
            "metadata": {}
        },
        {
            "cell_type": "markdown",
            "source": [
                "# Malha Fechada"
            ],
            "metadata": {}
        },
        {
            "cell_type": "code",
            "execution_count": 7,
            "source": [
                "Parte_superior = ctl.series(C_s, P_s) #Controlador * Planta\r\n",
                "\r\n",
                "G1_s = ctl.feedback(Parte_superior, H_s, sign = -1) # Adiciona sensor (feedback)\r\n",
                "display(G1_s)"
            ],
            "outputs": [
                {
                    "output_type": "display_data",
                    "data": {
                        "text/latex": [
                            "$$\\frac{1.4 \\times 10^{8} s^2 + 4.5 \\times 10^{9} s + 7 \\times 10^{8}}{50 s^3 + 5.14 \\times 10^{9} s^2 + 4.6 \\times 10^{9} s + 7 \\times 10^{8}}$$"
                        ],
                        "text/plain": [
                            "TransferFunction(array([1.4e+08, 4.5e+09, 7.0e+08]), array([5.00000e+01, 5.14000e+09, 4.60001e+09, 7.00000e+08]))"
                        ]
                    },
                    "metadata": {}
                }
            ],
            "metadata": {}
        },
        {
            "cell_type": "markdown",
            "source": [
                "# Resposta ao degrau"
            ],
            "metadata": {}
        },
        {
            "cell_type": "markdown",
            "source": [
                "#### Função degrau unitário"
            ],
            "metadata": {}
        },
        {
            "cell_type": "code",
            "execution_count": 8,
            "source": [
                "T = np.linspace(-1, Tsim, 100000) \r\n",
                "\r\n",
                "degrau = np.ones_like(T)\r\n",
                "degrau[T<0] = 0\r\n",
                "degrau[T>180] = 4.5\r\n",
                "degrau[T>370] = 2"
            ],
            "outputs": [],
            "metadata": {}
        },
        {
            "cell_type": "markdown",
            "source": [
                "#### Respostas ao degrau"
            ],
            "metadata": {}
        },
        {
            "cell_type": "code",
            "execution_count": 9,
            "source": [
                "T, yout = ctl.forced_response(P_s, T, degrau) #step_response(P_s, T, input = degrau)\r\n",
                "T, you_mf = ctl.forced_response(G1_s, T, degrau) #step_response(G1_s, T, input = )"
            ],
            "outputs": [],
            "metadata": {}
        },
        {
            "cell_type": "markdown",
            "source": [
                "#### Plot resultados"
            ],
            "metadata": {}
        },
        {
            "cell_type": "code",
            "execution_count": 10,
            "source": [
                "plt.plot(T, you_mf, 'k-')\r\n",
                "plt.plot(T, degrau, 'r-')\r\n",
                "plt.plot(T, yout, 'b-')\r\n",
                "plt.xlabel('tempo(s)')\r\n",
                "plt.legend(['resposta em malha fechada', 'degrau unitário', 'resposta em malha aberta'])\r\n",
                "plt.grid()\r\n",
                "plt.title('Sistema de 2ª ordem')"
            ],
            "outputs": [
                {
                    "output_type": "execute_result",
                    "data": {
                        "text/plain": [
                            "Text(0.5, 1.0, 'Sistema de 2ª ordem')"
                        ]
                    },
                    "metadata": {},
                    "execution_count": 10
                },
                {
                    "output_type": "display_data",
                    "data": {
                        "image/png": "[encoded data removed]",
                        "text/plain": [
                            "<Figure size 432x288 with 1 Axes>"
                        ]
                    },
                    "metadata": {
                        "needs_background": "light"
                    }
                }
            ],
            "metadata": {}
        },
        {
            "cell_type": "code",
            "execution_count": 11,
            "source": [
                "plt.plot(T, yout, 'b-')\r\n",
                "plt.plot(T, you_mf, 'k-')\r\n",
                "plt.plot(T, degrau, 'r-')\r\n",
                "plt.xlabel('tempo(s)')\r\n",
                "plt.legend([ 'resposta em malha aberta','resposta em malha fechada', 'degrau unitário',])\r\n",
                "plt.grid()\r\n",
                "plt.xlim(-4,183)\r\n",
                "plt.ylim(-0.1,1.25)\r\n",
                "plt.title('Sistema de 2ª ordem') "
            ],
            "outputs": [
                {
                    "output_type": "execute_result",
                    "data": {
                        "text/plain": [
                            "Text(0.5, 1.0, 'Sistema de 2ª ordem')"
                        ]
                    },
                    "metadata": {},
                    "execution_count": 11
                },
                {
                    "output_type": "display_data",
                    "data": {
                        "image/png": "[encoded data removed]",
                        "text/plain": [
                            "<Figure size 432x288 with 1 Axes>"
                        ]
                    },
                    "metadata": {
                        "needs_background": "light"
                    }
                }
            ],
            "metadata": {}
        }
    ],
    "metadata": {
        "orig_nbformat": 4,
        "language_info": {
            "name": "python",
            "version": "3.9.7",
            "mimetype": "text/x-python",
            "codemirror_mode": {
                "name": "ipython",
                "version": 3
            },
            "pygments_lexer": "ipython3",
            "nbconvert_exporter": "python",
            "file_extension": ".py"
        },
        "kernelspec": {
            "name": "python3",
            "display_name": "Python 3.9.7 64-bit (windows store)"
        },
        "interpreter": {
            "hash": "1d4133fbd1a6d00cc13ec782ea563c0e578873981b57b2fb1928fe023d2f5f71"
        }
    },
    "nbformat": 4,
    "nbformat_minor": 2
}