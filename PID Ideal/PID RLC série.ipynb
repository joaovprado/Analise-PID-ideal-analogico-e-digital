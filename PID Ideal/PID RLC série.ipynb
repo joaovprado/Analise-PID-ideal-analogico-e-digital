{
  "nbformat": 4,
  "nbformat_minor": 0,
  "metadata": {
    "orig_nbformat": 4,
    "language_info": {
      "name": "python",
      "version": "3.9.7",
      "mimetype": "text/x-python",
      "codemirror_mode": {
        "name": "ipython",
        "version": 3
      },
      "pygments_lexer": "ipython3",
      "nbconvert_exporter": "python",
      "file_extension": ".py"
    },
    "kernelspec": {
      "name": "python3",
      "display_name": "Python 3.9.7 64-bit (windows store)"
    },
    "interpreter": {
      "hash": "1d4133fbd1a6d00cc13ec782ea563c0e578873981b57b2fb1928fe023d2f5f71"
    },
    "colab": {
      "name": "PID RLC série.ipynb",
      "provenance": [],
      "include_colab_link": true
    }
  },
  "cells": [
    {
      "cell_type": "markdown",
      "metadata": {
        "id": "view-in-github",
        "colab_type": "text"
      },
      "source": [
        "<a href=\"https://colab.research.google.com/github/joaovprado/Analise-PID-ideal-analogico-e-digital/blob/main/PID%20Ideal/PID%20RLC%20s%C3%A9rie.ipynb\" target=\"_parent\"><img src=\"https://colab.research.google.com/assets/colab-badge.svg\" alt=\"Open In Colab\"/></a>"
      ]
    },
    {
      "cell_type": "code",
      "metadata": {
        "id": "sr1tf2hYeWux"
      },
      "source": [
        "#pip install control #Instalação da lib CONTROL (necessário executar só uma vez em ambientes novos)"
      ],
      "execution_count": 36,
      "outputs": []
    },
    {
      "cell_type": "code",
      "metadata": {
        "id": "eUw41labeWu7"
      },
      "source": [
        "import control as ctl\n",
        "import matplotlib.pyplot as plt\n",
        "import numpy as np"
      ],
      "execution_count": 37,
      "outputs": []
    },
    {
      "cell_type": "markdown",
      "metadata": {
        "id": "viDZB9mseWu8"
      },
      "source": [
        "# Funções de Transferência"
      ]
    },
    {
      "cell_type": "code",
      "metadata": {
        "id": "RTEPbExweWvB"
      },
      "source": [
        "Tsim = 200 #tempo simulação\n",
        "s = ctl.TransferFunction.s"
      ],
      "execution_count": 38,
      "outputs": []
    },
    {
      "cell_type": "markdown",
      "metadata": {
        "id": "mfKqszp4eWvF"
      },
      "source": [
        "#### Planta"
      ]
    },
    {
      "cell_type": "code",
      "metadata": {
        "colab": {
          "base_uri": "https://localhost:8080/",
          "height": 39
        },
        "id": "zPCvi1jxeWvG",
        "outputId": "10bd7f24-8a6c-4dc5-82ed-a6203af76e4f"
      },
      "source": [
        "R = 2\n",
        "C = 10e-3\n",
        "L = 4\n",
        "\n",
        "#Tensão no capacitor\n",
        "P_s = 1/(L*C*s**2+R*C*s+1)\n",
        "display(P_s)"
      ],
      "execution_count": 39,
      "outputs": [
        {
          "output_type": "display_data",
          "data": {
            "text/latex": "$$\\frac{1}{0.04 s^2 + 0.02 s + 1}$$",
            "text/plain": [
              "TransferFunction(array([1]), array([0.04, 0.02, 1.  ]))"
            ]
          },
          "metadata": {}
        }
      ]
    },
    {
      "cell_type": "markdown",
      "metadata": {
        "id": "o1H-EhwueWvI"
      },
      "source": [
        "#### Controlador PID"
      ]
    },
    {
      "cell_type": "code",
      "metadata": {
        "colab": {
          "base_uri": "https://localhost:8080/",
          "height": 40
        },
        "id": "ecyIyxczeWvK",
        "outputId": "49c4c394-19fa-42fd-82eb-5bd1851df925"
      },
      "source": [
        "Kp = 25\n",
        "Ki = 6.5\n",
        "Kd = 5\n",
        "\n",
        "C_s = (Kd*s**2 + Kp*s + Ki) / s\n",
        "display(C_s)"
      ],
      "execution_count": 40,
      "outputs": [
        {
          "output_type": "display_data",
          "data": {
            "text/latex": "$$\\frac{5 s^2 + 25 s + 6.5}{s}$$",
            "text/plain": [
              "TransferFunction(array([ 5. , 25. ,  6.5]), array([1, 0]))"
            ]
          },
          "metadata": {}
        }
      ]
    },
    {
      "cell_type": "markdown",
      "metadata": {
        "id": "Qnb3HI0JeWvL"
      },
      "source": [
        "#### Sensor"
      ]
    },
    {
      "cell_type": "code",
      "metadata": {
        "colab": {
          "base_uri": "https://localhost:8080/",
          "height": 35
        },
        "id": "imEKqac5eWvN",
        "outputId": "fb99c2b0-8dd6-4eb7-855f-9e67ca2c5f6d"
      },
      "source": [
        "H_s = 1/1\n",
        "display(H_s)"
      ],
      "execution_count": 41,
      "outputs": [
        {
          "output_type": "display_data",
          "data": {
            "text/plain": [
              "1.0"
            ]
          },
          "metadata": {}
        }
      ]
    },
    {
      "cell_type": "markdown",
      "metadata": {
        "id": "pcDpDYR8eWvQ"
      },
      "source": [
        "# Malha Fechada"
      ]
    },
    {
      "cell_type": "code",
      "metadata": {
        "colab": {
          "base_uri": "https://localhost:8080/",
          "height": 41
        },
        "id": "pJOieYg1eWvQ",
        "outputId": "4989620a-d55e-4fa7-dee5-535a20ddb92e"
      },
      "source": [
        "Parte_superior = ctl.series(C_s, P_s) #Controlador * Planta\n",
        "\n",
        "G1_s = ctl.feedback(Parte_superior, H_s, sign = -1) # Adiciona sensor (feedback)\n",
        "display(G1_s)"
      ],
      "execution_count": 42,
      "outputs": [
        {
          "output_type": "display_data",
          "data": {
            "text/latex": "$$\\frac{5 s^2 + 25 s + 6.5}{0.04 s^3 + 5.02 s^2 + 26 s + 6.5}$$",
            "text/plain": [
              "TransferFunction(array([ 5. , 25. ,  6.5]), array([ 0.04,  5.02, 26.  ,  6.5 ]))"
            ]
          },
          "metadata": {}
        }
      ]
    },
    {
      "cell_type": "markdown",
      "metadata": {
        "id": "jCP9NByReWvU"
      },
      "source": [
        "# Resposta ao degrau"
      ]
    },
    {
      "cell_type": "markdown",
      "metadata": {
        "id": "G_78tJR8eWvV"
      },
      "source": [
        "#### Função degrau unitário"
      ]
    },
    {
      "cell_type": "code",
      "metadata": {
        "id": "kNinBssveWvV"
      },
      "source": [
        "T = np.linspace(-1, Tsim, 100000) \n",
        "\n",
        "degrau = np.ones_like(T)\n",
        "degrau[T<0] = 0\n",
        "degrau[T>15] = 4.5\n",
        "degrau[T>35] = 2"
      ],
      "execution_count": 43,
      "outputs": []
    },
    {
      "cell_type": "markdown",
      "metadata": {
        "id": "m1MEUueTeWvX"
      },
      "source": [
        "#### Respostas ao degrau"
      ]
    },
    {
      "cell_type": "code",
      "metadata": {
        "id": "hg3icJlxeWvY"
      },
      "source": [
        "T, yout = ctl.forced_response(P_s, T, degrau) #step_response(P_s, T, input = degrau)\n",
        "T, you_mf = ctl.forced_response(G1_s, T, degrau) #step_response(G1_s, T, input = )"
      ],
      "execution_count": 44,
      "outputs": []
    },
    {
      "cell_type": "markdown",
      "metadata": {
        "id": "0UE-lS14eWvZ"
      },
      "source": [
        "#### Plot resultados"
      ]
    },
    {
      "cell_type": "code",
      "metadata": {
        "colab": {
          "base_uri": "https://localhost:8080/",
          "height": 313
        },
        "id": "urRr8JNleWvZ",
        "outputId": "568a641a-7e9d-47ca-8030-3ee150cd010f"
      },
      "source": [
        "plt.plot(T, yout, 'b-') \n",
        "plt.plot(T, you_mf, 'k-')\n",
        "plt.plot(T, degrau, 'r-')\n",
        "plt.xlabel('tempo(s)')\n",
        "plt.legend([ 'resposta em malha aberta','resposta em malha fechada', 'degrau unitário',])\n",
        "plt.grid()\n",
        "plt.xlim(-0.1,50)\n",
        "plt.title('Sistema de 2ª ordem')"
      ],
      "execution_count": 45,
      "outputs": [
        {
          "output_type": "execute_result",
          "data": {
            "text/plain": [
              "Text(0.5, 1.0, 'Sistema de 2ª ordem')"
            ]
          },
          "metadata": {},
          "execution_count": 45
        },
        {
          "output_type": "display_data",
          "data": {
            "image/png": "[encoded data removed]",
            "text/plain": [
              "<Figure size 432x288 with 1 Axes>"
            ]
          },
          "metadata": {
            "needs_background": "light"
          }
        }
      ]
    },
    {
      "cell_type": "code",
      "metadata": {
        "colab": {
          "base_uri": "https://localhost:8080/",
          "height": 313
        },
        "id": "-FH1Hn4QeWvb",
        "outputId": "60a96828-c1b0-414b-da3c-814cad591ac0"
      },
      "source": [
        "plt.plot(T, yout, 'b-')\n",
        "plt.plot(T, you_mf, 'k-')\n",
        "plt.plot(T, degrau, 'r-')\n",
        "plt.xlabel('tempo(s)')\n",
        "plt.legend([ 'resposta em malha aberta','resposta em malha fechada', 'degrau unitário',])\n",
        "plt.grid()\n",
        "plt.xlim(-0.2,15)\n",
        "plt.ylim(-0.1,1.9)\n",
        "plt.title('Sistema RLC série') "
      ],
      "execution_count": 46,
      "outputs": [
        {
          "output_type": "execute_result",
          "data": {
            "text/plain": [
              "Text(0.5, 1.0, 'Sistema RLC série')"
            ]
          },
          "metadata": {},
          "execution_count": 46
        },
        {
          "output_type": "display_data",
          "data": {
            "image/png": "[encoded data removed]",
            "text/plain": [
              "<Figure size 432x288 with 1 Axes>"
            ]
          },
          "metadata": {
            "needs_background": "light"
          }
        }
      ]
    },
    {
      "cell_type": "code",
      "metadata": {
        "colab": {
          "base_uri": "https://localhost:8080/",
          "height": 313
        },
        "id": "88DUykn7eWvc",
        "outputId": "7eeb2980-c9a4-4671-df6e-7414026b1858"
      },
      "source": [
        "plt.plot(T, you_mf, 'k-')\n",
        "plt.plot(T, degrau, 'r-')\n",
        "plt.xlabel('tempo(s)')\n",
        "plt.legend(['resposta em malha fechada', 'degrau unitário',])\n",
        "plt.grid()\n",
        "plt.xlim(-0.2,3)\n",
        "plt.ylim(-0.1,1.1)\n",
        "plt.title('Sistema RLC série') "
      ],
      "execution_count": 47,
      "outputs": [
        {
          "output_type": "execute_result",
          "data": {
            "text/plain": [
              "Text(0.5, 1.0, 'Sistema RLC série')"
            ]
          },
          "metadata": {},
          "execution_count": 47
        },
        {
          "output_type": "display_data",
          "data": {
            "image/png": "[encoded data removed]",
            "text/plain": [
              "<Figure size 432x288 with 1 Axes>"
            ]
          },
          "metadata": {
            "needs_background": "light"
          }
        }
      ]
    }
  ]
}